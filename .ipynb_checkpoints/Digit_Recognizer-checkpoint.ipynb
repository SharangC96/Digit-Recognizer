{
 "cells": [
  {
   "cell_type": "code",
   "execution_count": null,
   "metadata": {
    "collapsed": true
   },
   "outputs": [],
   "source": [
    "import tensorflow as tf\n",
    "import pandas as pd\n",
    "import numpy as np"
   ]
  },
  {
   "cell_type": "code",
   "execution_count": null,
   "metadata": {
    "collapsed": true
   },
   "outputs": [],
   "source": [
    "def OneHotEncode(y):\n",
    "    size=y.shape[0]\n",
    "    temp=np.zeros([size,10])\n",
    "    for i in range(size):\n",
    "        temp[i][y[i]]=1\n",
    "    \n",
    "    return temp"
   ]
  },
  {
   "cell_type": "code",
   "execution_count": null,
   "metadata": {
    "collapsed": true
   },
   "outputs": [],
   "source": [
    "train_data=pd.read_csv('train.csv')\n",
    "test_data=pd.read_csv('test.csv')\n",
    "y_data=train_data['label'].values"
   ]
  },
  {
   "cell_type": "code",
   "execution_count": null,
   "metadata": {
    "collapsed": true
   },
   "outputs": [],
   "source": [
    "y_data=OneHotEncode(y_data)\n",
    "X_data=train_data.iloc[:,1:].values\n",
    "X_data=np.reshape(X_data,[-1,28,28,1])\n",
    "\n",
    "X_data_submit=test_data.values\n",
    "X_data_submit=np.reshape(X_data_submit,[-1,28,28,1])\n",
    "#train_data=np.reshape(train_data,[-1,28,28])"
   ]
  },
  {
   "cell_type": "code",
   "execution_count": null,
   "metadata": {
    "collapsed": true
   },
   "outputs": [],
   "source": [
    "from sklearn.model_selection import train_test_split\n",
    "X_data_train,X_data_test,y_data_train,y_data_test=train_test_split(X_data, y_data, test_size=0.2, random_state=42)"
   ]
  },
  {
   "cell_type": "code",
   "execution_count": null,
   "metadata": {
    "collapsed": true
   },
   "outputs": [],
   "source": [
    "del train_data,X_data,y_data,test_data"
   ]
  },
  {
   "cell_type": "code",
   "execution_count": null,
   "metadata": {
    "collapsed": true
   },
   "outputs": [],
   "source": [
    "q1=tf.RandomShuffleQueue(capacity=800,min_after_dequeue=300,dtypes=tf.float32,shapes=[28,28,1],seed=6)\n",
    "q2=tf.RandomShuffleQueue(capacity=800,min_after_dequeue=300,dtypes=tf.float32,shapes=[10],seed=6)\n",
    "\n",
    "q3=tf.FIFOQueue(capacity=800,dtypes=tf.float32,shapes=[28,28,1])\n",
    "q4=tf.FIFOQueue(capacity=800,dtypes=tf.float32,shapes=[10])"
   ]
  },
  {
   "cell_type": "code",
   "execution_count": null,
   "metadata": {
    "collapsed": true
   },
   "outputs": [],
   "source": [
    "enqueue_op1= q1.enqueue_many(vals=X_data_train)\n",
    "enqueue_op2= q2.enqueue_many(vals=y_data_train)\n",
    "\n",
    "enqueue_op3= q3.enqueue_many(vals=X_data_submit)\n",
    "enqueue_op4= q4.enqueue_many(vals=y_data_test)"
   ]
  },
  {
   "cell_type": "code",
   "execution_count": null,
   "metadata": {
    "collapsed": true
   },
   "outputs": [],
   "source": [
    "numberOfThreads = 3\n",
    "qr1 = tf.train.QueueRunner(q1, [enqueue_op1] * numberOfThreads)\n",
    "qr2 = tf.train.QueueRunner(q2, [enqueue_op2] * numberOfThreads)\n",
    "\n",
    "qr3 = tf.train.QueueRunner(q3, [enqueue_op3] * numberOfThreads)\n",
    "qr4 = tf.train.QueueRunner(q4, [enqueue_op4] * numberOfThreads)\n",
    "\n",
    "tf.train.add_queue_runner(qr1)\n",
    "tf.train.add_queue_runner(qr2)\n",
    "tf.train.add_queue_runner(qr3)\n",
    "tf.train.add_queue_runner(qr4)"
   ]
  },
  {
   "cell_type": "code",
   "execution_count": null,
   "metadata": {
    "collapsed": true
   },
   "outputs": [],
   "source": [
    "#now make a computation graph\n",
    "def ConvLayer(X,no_of_filters,filter_size):\n",
    "    in_channels=int(X.shape[3])\n",
    "    W=tf.get_variable(\"filter\",dtype=tf.float32,initializer=tf.random_normal([filter_size,filter_size,in_channels,no_of_filters]))\n",
    "    b=tf.get_variable(\"bias\",dtype=tf.float32,initializer=tf.random_normal([no_of_filters]))\n",
    "    \n",
    "    out=tf.nn.relu(tf.add(tf.nn.conv2d(input=X,filter=W,strides=[1,1,1,1],padding='SAME'),b))\n",
    "    pool=tf.nn.max_pool(value=out,ksize=[1,2,2,1],strides=[1,2,2,1],padding='SAME')\n",
    "    return pool"
   ]
  },
  {
   "cell_type": "code",
   "execution_count": null,
   "metadata": {
    "collapsed": true
   },
   "outputs": [],
   "source": [
    "def FcLayer(X,out_layer):\n",
    "    in_layer=int(X.shape[1])\n",
    "    \n",
    "    W=tf.get_variable(\"Weights\",dtype=tf.float32,initializer=tf.random_normal([in_layer,out_layer],dtype=tf.float32))\n",
    "    b=tf.get_variable(\"Bias\",dtype=tf.float32,initializer=tf.random_normal([out_layer],dtype=tf.float32))\n",
    "    \n",
    "    out=tf.add(tf.matmul(X,W),b)\n",
    "    return out"
   ]
  },
  {
   "cell_type": "code",
   "execution_count": null,
   "metadata": {
    "collapsed": true
   },
   "outputs": [],
   "source": [
    "batch_size=200\n",
    "#keep_probab=tf.placeholder(dtype=tf.float32)\n",
    "X=q3.dequeue_many(batch_size)\n",
    "y=q2.dequeue_many(batch_size)"
   ]
  },
  {
   "cell_type": "code",
   "execution_count": null,
   "metadata": {
    "collapsed": true
   },
   "outputs": [],
   "source": [
    "with tf.variable_scope(\"Conv_layer1\"):\n",
    "    out1=ConvLayer(X,32,5)\n",
    "    out1=tf.nn.dropout(out1,1.0)\n",
    "with tf.variable_scope(\"Conv_layer2\"):\n",
    "    out2=ConvLayer(out1,64,5)\n",
    "    out2=tf.nn.dropout(out2,1.0)\n",
    "with tf.variable_scope(\"Conv_layer3\"):\n",
    "    out3=ConvLayer(out2,128,2)\n",
    "    out3=tf.nn.dropout(out3,1.0)\n",
    "\n",
    "channels=int(out3.shape[3])\n",
    "length=int(out3.shape[2])\n",
    "breadth=int(out3.shape[1])\n",
    "\n",
    "out3=tf.reshape(out3,[-1,length*breadth*channels])\n",
    "\n",
    "with tf.variable_scope(\"Fc_layer1\"):\n",
    "    fc_out1=FcLayer(out3,3072)\n",
    "    fc_out1=tf.nn.relu(fc_out1)\n",
    "    fc_out1=tf.nn.dropout(fc_out1,1.0)\n",
    "\n",
    "with tf.variable_scope(\"Fc_layer2\"):\n",
    "    fc_out2=FcLayer(fc_out1,10)\n",
    "\n",
    "prediction=tf.arg_max(fc_out2,dimension=1)"
   ]
  },
  {
   "cell_type": "code",
   "execution_count": null,
   "metadata": {
    "collapsed": true
   },
   "outputs": [],
   "source": [
    "loss=tf.reduce_mean(tf.nn.softmax_cross_entropy_with_logits(logits=fc_out2,labels=y))\n",
    "train_step=tf.train.AdamOptimizer(learning_rate=0.001).minimize(loss)\n",
    "\n",
    "accuracy=tf.reduce_mean(tf.cast(tf.equal(tf.arg_max(y,dimension=1),prediction),dtype=tf.float32))"
   ]
  },
  {
   "cell_type": "code",
   "execution_count": null,
   "metadata": {
    "collapsed": true
   },
   "outputs": [],
   "source": [
    "sess=tf.InteractiveSession()\n",
    "sess.run(tf.global_variables_initializer())\n",
    "\n",
    "\n",
    "coord = tf.train.Coordinator()\n",
    "threads = tf.train.start_queue_runners(sess=sess,coord=coord)"
   ]
  },
  {
   "cell_type": "code",
   "execution_count": null,
   "metadata": {
    "collapsed": true
   },
   "outputs": [],
   "source": [
    "tf.train.Saver().restore(sess,'trained_params/')"
   ]
  },
  {
   "cell_type": "code",
   "execution_count": null,
   "metadata": {
    "collapsed": true
   },
   "outputs": [],
   "source": [
    "epochs=500\n",
    "no_of_batches=int(X_data_train.shape[0]/batch_size)\n",
    "no_of_batches2=int(X_data_test.shape[0]/batch_size)\n",
    "no_of_batches3=int(X_data_submit.shape[0]/batch_size)"
   ]
  },
  {
   "cell_type": "code",
   "execution_count": null,
   "metadata": {
    "collapsed": true
   },
   "outputs": [],
   "source": [
    "for epoch in range(epochs):\n",
    "    for _ in range(no_of_batches):\n",
    "        sess.run(train_step)\n",
    "    #print(epoch,'completed')"
   ]
  },
  {
   "cell_type": "code",
   "execution_count": null,
   "metadata": {},
   "outputs": [],
   "source": [
    "summ=0\n",
    "for _ in range(no_of_batches):\n",
    "    summ=summ+sess.run(accuracy)\n",
    "print(summ/no_of_batches)"
   ]
  },
  {
   "cell_type": "code",
   "execution_count": null,
   "metadata": {
    "collapsed": true
   },
   "outputs": [],
   "source": [
    "summ2=0\n",
    "for _ in range(no_of_batches2):\n",
    "    summ2=summ2+sess.run(accuracy,feed_dict={keep_probab:1.0})\n",
    "print(summ2/no_of_batches2)"
   ]
  },
  {
   "cell_type": "code",
   "execution_count": null,
   "metadata": {
    "collapsed": true
   },
   "outputs": [],
   "source": [
    "predicted=np.zeros([X_data_submit.shape[0]])\n",
    "for _ in range(no_of_batches3):\n",
    "    predicted[_*batch_size:(_+1)*batch_size]=sess.run(prediction)\n",
    "\n",
    "predicted=predicted.astype(copy=False,dtype=np.int32)"
   ]
  },
  {
   "cell_type": "code",
   "execution_count": null,
   "metadata": {
    "collapsed": true
   },
   "outputs": [],
   "source": [
    "ImageId=np.zeros([X_data_submit.shape[0]],dtype=np.int32)\n",
    "for _ in range(0,X_data_submit.shape[0]):\n",
    "    ImageId[_]=_+1"
   ]
  },
  {
   "cell_type": "code",
   "execution_count": null,
   "metadata": {
    "collapsed": true
   },
   "outputs": [],
   "source": [
    "Dataframe=pd.DataFrame(data={'ImageId':ImageId,'Label':predicted})\n",
    "Dataframe.to_csv('submission.csv',index=False)"
   ]
  },
  {
   "cell_type": "code",
   "execution_count": null,
   "metadata": {
    "collapsed": true
   },
   "outputs": [],
   "source": [
    "coord.request_stop()\n",
    "coord.join(threads)"
   ]
  },
  {
   "cell_type": "code",
   "execution_count": null,
   "metadata": {},
   "outputs": [],
   "source": [
    "tf.train.Saver().save(sess,'trained_params/')"
   ]
  },
  {
   "cell_type": "code",
   "execution_count": null,
   "metadata": {
    "collapsed": true
   },
   "outputs": [],
   "source": [
    "%qtconsole"
   ]
  },
  {
   "cell_type": "code",
   "execution_count": null,
   "metadata": {
    "collapsed": true
   },
   "outputs": [],
   "source": []
  }
 ],
 "metadata": {
  "kernelspec": {
   "display_name": "Python 3",
   "language": "python",
   "name": "python3"
  },
  "language_info": {
   "codemirror_mode": {
    "name": "ipython",
    "version": 3
   },
   "file_extension": ".py",
   "mimetype": "text/x-python",
   "name": "python",
   "nbconvert_exporter": "python",
   "pygments_lexer": "ipython3",
   "version": "3.5.3"
  }
 },
 "nbformat": 4,
 "nbformat_minor": 2
}
