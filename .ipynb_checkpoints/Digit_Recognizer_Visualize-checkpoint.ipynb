{
 "cells": [
  {
   "cell_type": "code",
   "execution_count": 1,
   "metadata": {
    "collapsed": true
   },
   "outputs": [],
   "source": [
    "import tensorflow as tf\n",
    "import pandas as pd\n",
    "import numpy as np\n",
    "from PIL import Image\n",
    "import matplotlib.pyplot as plt"
   ]
  },
  {
   "cell_type": "code",
   "execution_count": 2,
   "metadata": {
    "collapsed": false
   },
   "outputs": [],
   "source": [
    "#load image that you want to visualize\n",
    "from scipy import misc\n",
    "image=misc.imread('image.png',mode='L')\n",
    "image=255-image\n",
    "image=np.reshape(image,[1,28,28,1])\n",
    "image=image.astype(dtype=np.float32,copy=False)\n",
    "X=image"
   ]
  },
  {
   "cell_type": "code",
   "execution_count": 3,
   "metadata": {
    "collapsed": true
   },
   "outputs": [],
   "source": [
    "#now make a computation graph\n",
    "def ConvLayer(X,no_of_filters,filter_size):\n",
    "    in_channels=int(X.shape[3])\n",
    "    W=tf.get_variable(\"filter\",dtype=tf.float32,initializer=tf.random_normal([filter_size,filter_size,in_channels,no_of_filters]))\n",
    "    b=tf.get_variable(\"bias\",dtype=tf.float32,initializer=tf.random_normal([no_of_filters]))\n",
    "    \n",
    "    out=tf.nn.relu(tf.add(tf.nn.conv2d(input=X,filter=W,strides=[1,1,1,1],padding='SAME'),b))\n",
    "    pool=tf.nn.max_pool(value=out,ksize=[1,2,2,1],strides=[1,2,2,1],padding='SAME')\n",
    "    return pool"
   ]
  },
  {
   "cell_type": "code",
   "execution_count": 4,
   "metadata": {
    "collapsed": true
   },
   "outputs": [],
   "source": [
    "def FcLayer(X,out_layer):\n",
    "    in_layer=int(X.shape[1])\n",
    "    \n",
    "    W=tf.get_variable(\"Weights\",dtype=tf.float32,initializer=tf.random_normal([in_layer,out_layer],dtype=tf.float32))\n",
    "    b=tf.get_variable(\"Bias\",dtype=tf.float32,initializer=tf.random_normal([out_layer],dtype=tf.float32))\n",
    "    \n",
    "    out=tf.add(tf.matmul(X,W),b)\n",
    "    return out"
   ]
  },
  {
   "cell_type": "code",
   "execution_count": 5,
   "metadata": {
    "collapsed": false
   },
   "outputs": [],
   "source": [
    "\n",
    "with tf.variable_scope(\"Conv_layer1\"):\n",
    "    out1=ConvLayer(X,32,5)\n",
    "with tf.variable_scope(\"Conv_layer2\"):\n",
    "    out2=ConvLayer(out1,64,5)\n",
    "with tf.variable_scope(\"Conv_layer3\"):\n",
    "    out3=ConvLayer(out2,128,2)\n",
    "\n",
    "channels=int(out3.shape[3])\n",
    "length=int(out3.shape[2])\n",
    "breadth=int(out3.shape[1])\n",
    "\n",
    "out3=tf.reshape(out3,[-1,length*breadth*channels])\n",
    "\n",
    "with tf.variable_scope(\"Fc_layer1\"):\n",
    "    fc_out1=FcLayer(out3,3072)\n",
    "    fc_out1=tf.nn.relu(fc_out1)\n",
    "\n",
    "with tf.variable_scope(\"Fc_layer2\"):\n",
    "    fc_out2=FcLayer(fc_out1,10)\n",
    "\n",
    "yoyo=tf.nn.softmax(fc_out2)\n",
    "prediction=tf.arg_max(yoyo,dimension=1)"
   ]
  },
  {
   "cell_type": "code",
   "execution_count": 6,
   "metadata": {
    "collapsed": true
   },
   "outputs": [],
   "source": [
    "sess=tf.InteractiveSession()\n",
    "sess.run(tf.global_variables_initializer())"
   ]
  },
  {
   "cell_type": "code",
   "execution_count": 7,
   "metadata": {
    "collapsed": false
   },
   "outputs": [],
   "source": [
    "tf.train.Saver().restore(sess,'trained_params/')"
   ]
  },
  {
   "cell_type": "code",
   "execution_count": 31,
   "metadata": {
    "collapsed": false
   },
   "outputs": [
    {
     "name": "stdout",
     "output_type": "stream",
     "text": [
      "Original Image\n"
     ]
    },
    {
     "data": {
      "image/png": "[encoded data removed]",
      "text/plain": [
       "<matplotlib.figure.Figure at 0x7f7e3dc76278>"
      ]
     },
     "metadata": {},
     "output_type": "display_data"
    },
    {
     "name": "stdout",
     "output_type": "stream",
     "text": [
      "output of the first convolutional layer\n"
     ]
    },
    {
     "data": {
      "image/png": "[encoded data removed]",
      "text/plain": [
       "<matplotlib.figure.Figure at 0x7f7e3dc17630>"
      ]
     },
     "metadata": {},
     "output_type": "display_data"
    },
    {
     "name": "stdout",
     "output_type": "stream",
     "text": [
      "output of the second convolutional layer\n"
     ]
    },
    {
     "data": {
      "image/png": "[encoded data removed]",
      "text/plain": [
       "<matplotlib.figure.Figure at 0x7f7e3c2bd940>"
      ]
     },
     "metadata": {},
     "output_type": "display_data"
    },
    {
     "name": "stdout",
     "output_type": "stream",
     "text": [
      "output of the third convolutional layer\n"
     ]
    },
    {
     "data": {
      "image/png": "[encoded data removed]",
      "text/plain": [
       "<matplotlib.figure.Figure at 0x7f7e4406e0b8>"
      ]
     },
     "metadata": {},
     "output_type": "display_data"
    },
    {
     "name": "stdout",
     "output_type": "stream",
     "text": [
      "Prediction is:  [4]\n"
     ]
    }
   ],
   "source": [
    "image=np.reshape(image,[28,28])\n",
    "plt.imshow(image,cmap='gray')\n",
    "print('Original Image')\n",
    "plt.show()\n",
    "\n",
    "array=sess.run(out1)\n",
    "array=array.astype(np.uint8)\n",
    "plt.imshow(array[0,:,:,23],cmap='gray')\n",
    "print('output of the first convolutional layer')\n",
    "plt.show()\n",
    "\n",
    "array=sess.run(out2)\n",
    "array=array.astype(np.uint8)\n",
    "plt.imshow(array[0,:,:,63],cmap='gray')\n",
    "\n",
    "print('output of the second convolutional layer')\n",
    "plt.show()\n",
    "\n",
    "array=sess.run(out3)\n",
    "array=np.reshape(array,[1,length,breadth,channels])\n",
    "\n",
    "array=array.astype(np.uint8)\n",
    "plt.imshow(array[0,:,:,6],cmap='gray')\n",
    "print('output of the third convolutional layer')\n",
    "plt.show()\n",
    "\n",
    "\n",
    "print('Prediction is: ',sess.run(prediction))"
   ]
  },
  {
   "cell_type": "code",
   "execution_count": 9,
   "metadata": {
    "collapsed": true
   },
   "outputs": [],
   "source": [
    "#%qtconsole\n"
   ]
  }
 ],
 "metadata": {
  "kernelspec": {
   "display_name": "Python 3",
   "language": "python",
   "name": "python3"
  },
  "language_info": {
   "codemirror_mode": {
    "name": "ipython",
    "version": 3
   },
   "file_extension": ".py",
   "mimetype": "text/x-python",
   "name": "python",
   "nbconvert_exporter": "python",
   "pygments_lexer": "ipython3",
   "version": "3.6.0"
  }
 },
 "nbformat": 4,
 "nbformat_minor": 2
}
